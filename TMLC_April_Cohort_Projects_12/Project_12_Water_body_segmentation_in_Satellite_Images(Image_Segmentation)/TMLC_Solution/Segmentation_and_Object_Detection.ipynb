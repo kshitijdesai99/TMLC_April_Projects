{
  "cells": [
    {
      "cell_type": "code",
      "execution_count": null,
      "metadata": {
        "id": "6OF6CsOnLXFX"
      },
      "outputs": [],
      "source": [
        "import pandas as pd\n",
        "import numpy as np\n",
        "import seaborn as sns\n",
        "import matplotlib.pyplot as plt\n",
        "from google.colab.patches import cv2_imshow # for image display\n",
        "# check opencv version\n",
        "import cv2\n"
      ]
    },
    {
      "cell_type": "code",
      "execution_count": null,
      "metadata": {
        "colab": {
          "base_uri": "https://localhost:8080/"
        },
        "id": "k1vzsUT4LYgO",
        "outputId": "87a4a48e-ad8f-431f-db9f-d1948868f3d5"
      },
      "outputs": [
        {
          "output_type": "stream",
          "name": "stdout",
          "text": [
            "Mounted at /content/gdrive\n"
          ]
        }
      ],
      "source": [
        "from google.colab import drive\n",
        "drive.mount('/content/gdrive')"
      ]
    },
    {
      "cell_type": "code",
      "execution_count": null,
      "metadata": {
        "id": "FYaHP6F3VJwY"
      },
      "outputs": [],
      "source": [
        "import os\n",
        "os.chdir('/content/gdrive/MyDrive/Presentation')\n"
      ]
    },
    {
      "cell_type": "code",
      "execution_count": null,
      "metadata": {
        "id": "SxZE3IlBOhfE"
      },
      "outputs": [],
      "source": [
        "!pwd"
      ]
    },
    {
      "cell_type": "code",
      "execution_count": null,
      "metadata": {
        "colab": {
          "base_uri": "https://localhost:8080/"
        },
        "id": "GLWcl99SmKXi",
        "outputId": "5d0e9100-602b-4407-c00b-0f5247accd32"
      },
      "outputs": [
        {
          "output_type": "execute_result",
          "data": {
            "text/plain": [
              "< cv2.VideoCapture 0x793624f34d30>"
            ]
          },
          "metadata": {},
          "execution_count": 4
        }
      ],
      "source": [
        "cap = cv2.VideoCapture('video1.mp4')\n",
        "cap"
      ]
    },
    {
      "cell_type": "code",
      "execution_count": null,
      "metadata": {
        "colab": {
          "base_uri": "https://localhost:8080/",
          "height": 1000
        },
        "id": "Q1pUjTC8Pthk",
        "outputId": "0801ccc2-0e1b-4757-e966-b6d9c42260f8"
      },
      "outputs": [
        {
          "output_type": "stream",
          "name": "stdout",
          "text": [
            "Collecting pixellib\n",
            "  Downloading pixellib-0.7.1-py3-none-any.whl (430 kB)\n",
            "\u001b[?25l     \u001b[90m━━━━━━━━━━━━━━━━━━━━━━━━━━━━━━━━━━━━━━━━\u001b[0m \u001b[32m0.0/430.3 kB\u001b[0m \u001b[31m?\u001b[0m eta \u001b[36m-:--:--\u001b[0m\r\u001b[2K     \u001b[91m━━━━━━━━━━━\u001b[0m\u001b[90m╺\u001b[0m\u001b[90m━━━━━━━━━━━━━━━━━━━━━━━━━━━\u001b[0m \u001b[32m122.9/430.3 kB\u001b[0m \u001b[31m3.5 MB/s\u001b[0m eta \u001b[36m0:00:01\u001b[0m\r\u001b[2K     \u001b[91m━━━━━━━━━━━━━━━━━━━━━━━━━━━━━━━━━━━━━━\u001b[0m\u001b[91m╸\u001b[0m \u001b[32m430.1/430.3 kB\u001b[0m \u001b[31m6.6 MB/s\u001b[0m eta \u001b[36m0:00:01\u001b[0m\r\u001b[2K     \u001b[90m━━━━━━━━━━━━━━━━━━━━━━━━━━━━━━━━━━━━━━━\u001b[0m \u001b[32m430.3/430.3 kB\u001b[0m \u001b[31m5.8 MB/s\u001b[0m eta \u001b[36m0:00:00\u001b[0m\n",
            "\u001b[?25hRequirement already satisfied: pillow in /usr/local/lib/python3.10/dist-packages (from pixellib) (8.4.0)\n",
            "Requirement already satisfied: scikit-image in /usr/local/lib/python3.10/dist-packages (from pixellib) (0.19.3)\n",
            "Requirement already satisfied: opencv-python in /usr/local/lib/python3.10/dist-packages (from pixellib) (4.7.0.72)\n",
            "Requirement already satisfied: matplotlib in /usr/local/lib/python3.10/dist-packages (from pixellib) (3.7.1)\n",
            "Requirement already satisfied: imgaug in /usr/local/lib/python3.10/dist-packages (from pixellib) (0.4.0)\n",
            "Collecting labelme2coco (from pixellib)\n",
            "  Downloading labelme2coco-0.2.4-py3-none-any.whl (19 kB)\n",
            "Collecting imantics (from pixellib)\n",
            "  Downloading imantics-0.1.12.tar.gz (13 kB)\n",
            "  Preparing metadata (setup.py) ... \u001b[?25l\u001b[?25hdone\n",
            "Requirement already satisfied: Cython in /usr/local/lib/python3.10/dist-packages (from pixellib) (0.29.36)\n",
            "Collecting pyQt5 (from pixellib)\n",
            "  Downloading PyQt5-5.15.9-cp37-abi3-manylinux_2_17_x86_64.whl (8.4 MB)\n",
            "\u001b[2K     \u001b[90m━━━━━━━━━━━━━━━━━━━━━━━━━━━━━━━━━━━━━━━━\u001b[0m \u001b[32m8.4/8.4 MB\u001b[0m \u001b[31m20.7 MB/s\u001b[0m eta \u001b[36m0:00:00\u001b[0m\n",
            "\u001b[?25hCollecting fvcore (from pixellib)\n",
            "  Downloading fvcore-0.1.5.post20221221.tar.gz (50 kB)\n",
            "\u001b[2K     \u001b[90m━━━━━━━━━━━━━━━━━━━━━━━━━━━━━━━━━━━━━━━━\u001b[0m \u001b[32m50.2/50.2 kB\u001b[0m \u001b[31m5.7 MB/s\u001b[0m eta \u001b[36m0:00:00\u001b[0m\n",
            "\u001b[?25h  Preparing metadata (setup.py) ... \u001b[?25l\u001b[?25hdone\n",
            "Collecting iopath (from pixellib)\n",
            "  Downloading iopath-0.1.10.tar.gz (42 kB)\n",
            "\u001b[2K     \u001b[90m━━━━━━━━━━━━━━━━━━━━━━━━━━━━━━━━━━━━━━━━\u001b[0m \u001b[32m42.2/42.2 kB\u001b[0m \u001b[31m4.8 MB/s\u001b[0m eta \u001b[36m0:00:00\u001b[0m\n",
            "\u001b[?25h  Preparing metadata (setup.py) ... \u001b[?25l\u001b[?25hdone\n",
            "Collecting omegaconf (from pixellib)\n",
            "  Downloading omegaconf-2.3.0-py3-none-any.whl (79 kB)\n",
            "\u001b[2K     \u001b[90m━━━━━━━━━━━━━━━━━━━━━━━━━━━━━━━━━━━━━━━━\u001b[0m \u001b[32m79.5/79.5 kB\u001b[0m \u001b[31m9.5 MB/s\u001b[0m eta \u001b[36m0:00:00\u001b[0m\n",
            "\u001b[?25hRequirement already satisfied: cloudpickle in /usr/local/lib/python3.10/dist-packages (from pixellib) (2.2.1)\n",
            "Requirement already satisfied: termcolor in /usr/local/lib/python3.10/dist-packages (from pixellib) (2.3.0)\n",
            "Collecting yacs (from pixellib)\n",
            "  Downloading yacs-0.1.8-py3-none-any.whl (14 kB)\n",
            "Requirement already satisfied: tabulate in /usr/local/lib/python3.10/dist-packages (from pixellib) (0.9.0)\n",
            "Requirement already satisfied: tqdm in /usr/local/lib/python3.10/dist-packages (from pixellib) (4.65.0)\n",
            "Requirement already satisfied: future in /usr/local/lib/python3.10/dist-packages (from pixellib) (0.18.3)\n",
            "Requirement already satisfied: pydot in /usr/local/lib/python3.10/dist-packages (from pixellib) (1.4.2)\n",
            "Collecting dataclasses (from pixellib)\n",
            "  Downloading dataclasses-0.6-py3-none-any.whl (14 kB)\n",
            "Collecting hydra-core (from pixellib)\n",
            "  Downloading hydra_core-1.3.2-py3-none-any.whl (154 kB)\n",
            "\u001b[2K     \u001b[90m━━━━━━━━━━━━━━━━━━━━━━━━━━━━━━━━━━━━━━\u001b[0m \u001b[32m154.5/154.5 kB\u001b[0m \u001b[31m17.4 MB/s\u001b[0m eta \u001b[36m0:00:00\u001b[0m\n",
            "\u001b[?25hCollecting black (from pixellib)\n",
            "  Downloading black-23.7.0-cp310-cp310-manylinux_2_17_x86_64.manylinux2014_x86_64.whl (1.7 MB)\n",
            "\u001b[2K     \u001b[90m━━━━━━━━━━━━━━━━━━━━━━━━━━━━━━━━━━━━━━━━\u001b[0m \u001b[32m1.7/1.7 MB\u001b[0m \u001b[31m35.3 MB/s\u001b[0m eta \u001b[36m0:00:00\u001b[0m\n",
            "\u001b[?25hRequirement already satisfied: click>=8.0.0 in /usr/local/lib/python3.10/dist-packages (from black->pixellib) (8.1.6)\n",
            "Collecting mypy-extensions>=0.4.3 (from black->pixellib)\n",
            "  Downloading mypy_extensions-1.0.0-py3-none-any.whl (4.7 kB)\n",
            "Requirement already satisfied: packaging>=22.0 in /usr/local/lib/python3.10/dist-packages (from black->pixellib) (23.1)\n",
            "Collecting pathspec>=0.9.0 (from black->pixellib)\n",
            "  Downloading pathspec-0.11.1-py3-none-any.whl (29 kB)\n",
            "Requirement already satisfied: platformdirs>=2 in /usr/local/lib/python3.10/dist-packages (from black->pixellib) (3.9.1)\n",
            "Requirement already satisfied: tomli>=1.1.0 in /usr/local/lib/python3.10/dist-packages (from black->pixellib) (2.0.1)\n",
            "Requirement already satisfied: numpy in /usr/local/lib/python3.10/dist-packages (from fvcore->pixellib) (1.22.4)\n",
            "Requirement already satisfied: pyyaml>=5.1 in /usr/local/lib/python3.10/dist-packages (from fvcore->pixellib) (6.0.1)\n",
            "Requirement already satisfied: typing_extensions in /usr/local/lib/python3.10/dist-packages (from iopath->pixellib) (4.7.1)\n",
            "Collecting portalocker (from iopath->pixellib)\n",
            "  Downloading portalocker-2.7.0-py2.py3-none-any.whl (15 kB)\n",
            "Collecting antlr4-python3-runtime==4.9.* (from hydra-core->pixellib)\n",
            "  Downloading antlr4-python3-runtime-4.9.3.tar.gz (117 kB)\n",
            "\u001b[2K     \u001b[90m━━━━━━━━━━━━━━━━━━━━━━━━━━━━━━━━━━━━━━\u001b[0m \u001b[32m117.0/117.0 kB\u001b[0m \u001b[31m14.7 MB/s\u001b[0m eta \u001b[36m0:00:00\u001b[0m\n",
            "\u001b[?25h  Preparing metadata (setup.py) ... \u001b[?25l\u001b[?25hdone\n",
            "Requirement already satisfied: lxml in /usr/local/lib/python3.10/dist-packages (from imantics->pixellib) (4.9.3)\n",
            "Collecting xmljson (from imantics->pixellib)\n",
            "  Downloading xmljson-0.2.1-py2.py3-none-any.whl (10 kB)\n",
            "Requirement already satisfied: six in /usr/local/lib/python3.10/dist-packages (from imgaug->pixellib) (1.16.0)\n",
            "Requirement already satisfied: scipy in /usr/local/lib/python3.10/dist-packages (from imgaug->pixellib) (1.10.1)\n",
            "Requirement already satisfied: imageio in /usr/local/lib/python3.10/dist-packages (from imgaug->pixellib) (2.25.1)\n",
            "Requirement already satisfied: Shapely in /usr/local/lib/python3.10/dist-packages (from imgaug->pixellib) (2.0.1)\n",
            "Requirement already satisfied: networkx>=2.2 in /usr/local/lib/python3.10/dist-packages (from scikit-image->pixellib) (3.1)\n",
            "Requirement already satisfied: tifffile>=2019.7.26 in /usr/local/lib/python3.10/dist-packages (from scikit-image->pixellib) (2023.7.10)\n",
            "Requirement already satisfied: PyWavelets>=1.1.1 in /usr/local/lib/python3.10/dist-packages (from scikit-image->pixellib) (1.4.1)\n",
            "Collecting sahi>=0.8.19 (from labelme2coco->pixellib)\n",
            "  Downloading sahi-0.11.14-py3-none-any.whl (104 kB)\n",
            "\u001b[2K     \u001b[90m━━━━━━━━━━━━━━━━━━━━━━━━━━━━━━━━━━━━━━\u001b[0m \u001b[32m104.0/104.0 kB\u001b[0m \u001b[31m12.1 MB/s\u001b[0m eta \u001b[36m0:00:00\u001b[0m\n",
            "\u001b[?25hRequirement already satisfied: jsonschema>=2.6.0 in /usr/local/lib/python3.10/dist-packages (from labelme2coco->pixellib) (4.3.3)\n",
            "Requirement already satisfied: contourpy>=1.0.1 in /usr/local/lib/python3.10/dist-packages (from matplotlib->pixellib) (1.1.0)\n",
            "Requirement already satisfied: cycler>=0.10 in /usr/local/lib/python3.10/dist-packages (from matplotlib->pixellib) (0.11.0)\n",
            "Requirement already satisfied: fonttools>=4.22.0 in /usr/local/lib/python3.10/dist-packages (from matplotlib->pixellib) (4.41.0)\n",
            "Requirement already satisfied: kiwisolver>=1.0.1 in /usr/local/lib/python3.10/dist-packages (from matplotlib->pixellib) (1.4.4)\n",
            "Requirement already satisfied: pyparsing>=2.3.1 in /usr/local/lib/python3.10/dist-packages (from matplotlib->pixellib) (3.1.0)\n",
            "Requirement already satisfied: python-dateutil>=2.7 in /usr/local/lib/python3.10/dist-packages (from matplotlib->pixellib) (2.8.2)\n",
            "Collecting PyQt5-sip<13,>=12.11 (from pyQt5->pixellib)\n",
            "  Downloading PyQt5_sip-12.12.1-cp310-cp310-manylinux_2_5_x86_64.manylinux1_x86_64.whl (360 kB)\n",
            "\u001b[2K     \u001b[90m━━━━━━━━━━━━━━━━━━━━━━━━━━━━━━━━━━━━━━\u001b[0m \u001b[32m360.5/360.5 kB\u001b[0m \u001b[31m32.9 MB/s\u001b[0m eta \u001b[36m0:00:00\u001b[0m\n",
            "\u001b[?25hCollecting PyQt5-Qt5>=5.15.2 (from pyQt5->pixellib)\n",
            "  Downloading PyQt5_Qt5-5.15.2-py3-none-manylinux2014_x86_64.whl (59.9 MB)\n",
            "\u001b[2K     \u001b[90m━━━━━━━━━━━━━━━━━━━━━━━━━━━━━━━━━━━━━━━━\u001b[0m \u001b[32m59.9/59.9 MB\u001b[0m \u001b[31m14.1 MB/s\u001b[0m eta \u001b[36m0:00:00\u001b[0m\n",
            "\u001b[?25hRequirement already satisfied: attrs>=17.4.0 in /usr/local/lib/python3.10/dist-packages (from jsonschema>=2.6.0->labelme2coco->pixellib) (23.1.0)\n",
            "Requirement already satisfied: pyrsistent!=0.17.0,!=0.17.1,!=0.17.2,>=0.14.0 in /usr/local/lib/python3.10/dist-packages (from jsonschema>=2.6.0->labelme2coco->pixellib) (0.19.3)\n",
            "Collecting pybboxes==0.1.6 (from sahi>=0.8.19->labelme2coco->pixellib)\n",
            "  Downloading pybboxes-0.1.6-py3-none-any.whl (24 kB)\n",
            "Collecting fire (from sahi>=0.8.19->labelme2coco->pixellib)\n",
            "  Downloading fire-0.5.0.tar.gz (88 kB)\n",
            "\u001b[2K     \u001b[90m━━━━━━━━━━━━━━━━━━━━━━━━━━━━━━━━━━━━━━━━\u001b[0m \u001b[32m88.3/88.3 kB\u001b[0m \u001b[31m11.1 MB/s\u001b[0m eta \u001b[36m0:00:00\u001b[0m\n",
            "\u001b[?25h  Preparing metadata (setup.py) ... \u001b[?25l\u001b[?25hdone\n",
            "Collecting terminaltables (from sahi>=0.8.19->labelme2coco->pixellib)\n",
            "  Downloading terminaltables-3.1.10-py2.py3-none-any.whl (15 kB)\n",
            "Requirement already satisfied: requests in /usr/local/lib/python3.10/dist-packages (from sahi>=0.8.19->labelme2coco->pixellib) (2.27.1)\n",
            "Requirement already satisfied: urllib3<1.27,>=1.21.1 in /usr/local/lib/python3.10/dist-packages (from requests->sahi>=0.8.19->labelme2coco->pixellib) (1.26.16)\n",
            "Requirement already satisfied: certifi>=2017.4.17 in /usr/local/lib/python3.10/dist-packages (from requests->sahi>=0.8.19->labelme2coco->pixellib) (2023.5.7)\n",
            "Requirement already satisfied: charset-normalizer~=2.0.0 in /usr/local/lib/python3.10/dist-packages (from requests->sahi>=0.8.19->labelme2coco->pixellib) (2.0.12)\n",
            "Requirement already satisfied: idna<4,>=2.5 in /usr/local/lib/python3.10/dist-packages (from requests->sahi>=0.8.19->labelme2coco->pixellib) (3.4)\n",
            "Building wheels for collected packages: fvcore, iopath, antlr4-python3-runtime, imantics, fire\n",
            "  Building wheel for fvcore (setup.py) ... \u001b[?25l\u001b[?25hdone\n",
            "  Created wheel for fvcore: filename=fvcore-0.1.5.post20221221-py3-none-any.whl size=61405 sha256=b5315a229e74ef2d116d4690c5691341f1f1312c8201cc8c40a256103fc3f25e\n",
            "  Stored in directory: /root/.cache/pip/wheels/01/c0/af/77c1cf53a1be9e42a52b48e5af2169d40ec2e89f7362489dd0\n",
            "  Building wheel for iopath (setup.py) ... \u001b[?25l\u001b[?25hdone\n",
            "  Created wheel for iopath: filename=iopath-0.1.10-py3-none-any.whl size=31531 sha256=4a96c8cf53949e2cf860a35965b7ead9d1f0e41839edaadf9fcb01ad03d3e8cb\n",
            "  Stored in directory: /root/.cache/pip/wheels/9a/a3/b6/ac0fcd1b4ed5cfeb3db92e6a0e476cfd48ed0df92b91080c1d\n",
            "  Building wheel for antlr4-python3-runtime (setup.py) ... \u001b[?25l\u001b[?25hdone\n",
            "  Created wheel for antlr4-python3-runtime: filename=antlr4_python3_runtime-4.9.3-py3-none-any.whl size=144554 sha256=f559766336ed4fb31a98321c0a2c2742b37eabf1cfd2a78787be7bc57b194a0b\n",
            "  Stored in directory: /root/.cache/pip/wheels/12/93/dd/1f6a127edc45659556564c5730f6d4e300888f4bca2d4c5a88\n",
            "  Building wheel for imantics (setup.py) ... \u001b[?25l\u001b[?25hdone\n",
            "  Created wheel for imantics: filename=imantics-0.1.12-py3-none-any.whl size=16015 sha256=3b10acd0a7dff8af7e4387097b356eef6c7bce418a55ae4ba9c1ca546bfe3f5f\n",
            "  Stored in directory: /root/.cache/pip/wheels/56/6a/be/4c60e88b14abec4e93234a1f7f91ce8abe1ae88a2b3eaad3ac\n",
            "  Building wheel for fire (setup.py) ... \u001b[?25l\u001b[?25hdone\n",
            "  Created wheel for fire: filename=fire-0.5.0-py2.py3-none-any.whl size=116932 sha256=5b7a393078dd212f997ae476cef2c407c29237f8217ce778c21335c43bbfa2ca\n",
            "  Stored in directory: /root/.cache/pip/wheels/90/d4/f7/9404e5db0116bd4d43e5666eaa3e70ab53723e1e3ea40c9a95\n",
            "Successfully built fvcore iopath antlr4-python3-runtime imantics fire\n",
            "Installing collected packages: xmljson, PyQt5-Qt5, dataclasses, antlr4-python3-runtime, yacs, terminaltables, PyQt5-sip, pybboxes, portalocker, pathspec, omegaconf, mypy-extensions, fire, sahi, pyQt5, iopath, imantics, hydra-core, black, labelme2coco, fvcore, pixellib\n",
            "Successfully installed PyQt5-Qt5-5.15.2 PyQt5-sip-12.12.1 antlr4-python3-runtime-4.9.3 black-23.7.0 dataclasses-0.6 fire-0.5.0 fvcore-0.1.5.post20221221 hydra-core-1.3.2 imantics-0.1.12 iopath-0.1.10 labelme2coco-0.2.4 mypy-extensions-1.0.0 omegaconf-2.3.0 pathspec-0.11.1 pixellib-0.7.1 portalocker-2.7.0 pyQt5-5.15.9 pybboxes-0.1.6 sahi-0.11.14 terminaltables-3.1.10 xmljson-0.2.1 yacs-0.1.8\n"
          ]
        },
        {
          "output_type": "display_data",
          "data": {
            "application/vnd.colab-display-data+json": {
              "pip_warning": {
                "packages": [
                  "dataclasses",
                  "pydevd_plugins"
                ]
              }
            }
          },
          "metadata": {}
        }
      ],
      "source": [
        "! pip install pixellib"
      ]
    },
    {
      "cell_type": "code",
      "execution_count": null,
      "metadata": {
        "id": "6E9sdMryQnCs"
      },
      "outputs": [],
      "source": [
        "!wget --quiet https://github.com/matterport/Mask_RCNN/releases/download/v2.0/mask_rcnn_coco.h5"
      ]
    },
    {
      "cell_type": "code",
      "execution_count": null,
      "metadata": {
        "colab": {
          "base_uri": "https://localhost:8080/",
          "height": 1000
        },
        "id": "hxOzEOKbQwJu",
        "outputId": "b55483f8-b4fc-4c0a-fd97-39e17036ba53"
      },
      "outputs": [
        {
          "output_type": "stream",
          "name": "stderr",
          "text": [
            "WARNING:tensorflow:From /usr/local/lib/python3.10/dist-packages/tensorflow/python/util/deprecation.py:648: calling map_fn_v2 (from tensorflow.python.ops.map_fn) with dtype is deprecated and will be removed in a future version.\n",
            "Instructions for updating:\n",
            "Use fn_output_signature instead\n",
            "/usr/local/lib/python3.10/dist-packages/keras/engine/training_v1.py:2359: UserWarning: `Model.state_updates` will be removed in a future version. This property should not be used in TensorFlow 2.0, as `updates` are applied automatically.\n",
            "  updates=self.state_updates,\n"
          ]
        },
        {
          "output_type": "stream",
          "name": "stdout",
          "text": [
            "No. of frames: 1\n",
            "No. of frames: 2\n",
            "No. of frames: 3\n",
            "No. of frames: 4\n",
            "No. of frames: 5\n",
            "No. of frames: 6\n",
            "No. of frames: 7\n",
            "No. of frames: 8\n",
            "No. of frames: 9\n",
            "No. of frames: 10\n",
            "No. of frames: 11\n",
            "No. of frames: 12\n",
            "No. of frames: 13\n",
            "No. of frames: 14\n",
            "No. of frames: 15\n",
            "No. of frames: 16\n",
            "No. of frames: 17\n",
            "No. of frames: 18\n",
            "No. of frames: 19\n",
            "No. of frames: 20\n",
            "No. of frames: 21\n",
            "No. of frames: 22\n",
            "No. of frames: 23\n",
            "No. of frames: 24\n",
            "No. of frames: 25\n",
            "No. of frames: 26\n",
            "No. of frames: 27\n",
            "No. of frames: 28\n",
            "No. of frames: 29\n",
            "No. of frames: 30\n",
            "No. of frames: 31\n",
            "No. of frames: 32\n",
            "No. of frames: 33\n",
            "No. of frames: 34\n",
            "No. of frames: 35\n",
            "No. of frames: 36\n",
            "No. of frames: 37\n",
            "No. of frames: 38\n",
            "No. of frames: 39\n",
            "No. of frames: 40\n",
            "No. of frames: 41\n",
            "No. of frames: 42\n",
            "No. of frames: 43\n",
            "No. of frames: 44\n",
            "No. of frames: 45\n",
            "No. of frames: 46\n",
            "No. of frames: 47\n",
            "No. of frames: 48\n",
            "No. of frames: 49\n",
            "No. of frames: 50\n",
            "No. of frames: 51\n",
            "No. of frames: 52\n",
            "No. of frames: 53\n",
            "No. of frames: 54\n",
            "No. of frames: 55\n",
            "No. of frames: 56\n",
            "No. of frames: 57\n",
            "No. of frames: 58\n",
            "No. of frames: 59\n",
            "No. of frames: 60\n",
            "No. of frames: 61\n",
            "No. of frames: 62\n",
            "No. of frames: 63\n",
            "No. of frames: 64\n",
            "No. of frames: 65\n",
            "No. of frames: 66\n",
            "No. of frames: 67\n",
            "No. of frames: 68\n",
            "No. of frames: 69\n",
            "No. of frames: 70\n",
            "No. of frames: 71\n",
            "No. of frames: 72\n",
            "No. of frames: 73\n",
            "No. of frames: 74\n",
            "No. of frames: 75\n",
            "No. of frames: 76\n",
            "No. of frames: 77\n",
            "No. of frames: 78\n",
            "No. of frames: 79\n",
            "No. of frames: 80\n",
            "No. of frames: 81\n",
            "No. of frames: 82\n",
            "No. of frames: 83\n",
            "No. of frames: 84\n",
            "No. of frames: 85\n",
            "No. of frames: 86\n",
            "No. of frames: 87\n",
            "No. of frames: 88\n",
            "No. of frames: 89\n",
            "No. of frames: 90\n",
            "No. of frames: 91\n",
            "No. of frames: 92\n",
            "No. of frames: 93\n",
            "No. of frames: 94\n",
            "No. of frames: 95\n",
            "No. of frames: 96\n",
            "No. of frames: 97\n",
            "No. of frames: 98\n",
            "No. of frames: 99\n",
            "No. of frames: 100\n",
            "No. of frames: 101\n",
            "No. of frames: 102\n",
            "No. of frames: 103\n",
            "No. of frames: 104\n",
            "No. of frames: 105\n",
            "No. of frames: 106\n",
            "No. of frames: 107\n",
            "No. of frames: 108\n",
            "No. of frames: 109\n",
            "No. of frames: 110\n",
            "No. of frames: 111\n",
            "No. of frames: 112\n",
            "No. of frames: 113\n",
            "No. of frames: 114\n",
            "No. of frames: 115\n",
            "No. of frames: 116\n",
            "No. of frames: 117\n",
            "No. of frames: 118\n",
            "No. of frames: 119\n",
            "No. of frames: 120\n",
            "No. of frames: 121\n",
            "No. of frames: 122\n",
            "No. of frames: 123\n",
            "No. of frames: 124\n",
            "No. of frames: 125\n",
            "No. of frames: 126\n",
            "No. of frames: 127\n",
            "No. of frames: 128\n",
            "No. of frames: 129\n",
            "No. of frames: 130\n",
            "No. of frames: 131\n",
            "No. of frames: 132\n",
            "No. of frames: 133\n",
            "No. of frames: 134\n",
            "No. of frames: 135\n",
            "No. of frames: 136\n",
            "No. of frames: 137\n",
            "No. of frames: 138\n",
            "No. of frames: 139\n",
            "No. of frames: 140\n",
            "No. of frames: 141\n",
            "No. of frames: 142\n",
            "No. of frames: 143\n",
            "No. of frames: 144\n",
            "No. of frames: 145\n",
            "No. of frames: 146\n",
            "No. of frames: 147\n",
            "No. of frames: 148\n",
            "No. of frames: 149\n",
            "No. of frames: 150\n",
            "No. of frames: 151\n",
            "No. of frames: 152\n",
            "No. of frames: 153\n",
            "No. of frames: 154\n",
            "No. of frames: 155\n",
            "No. of frames: 156\n",
            "No. of frames: 157\n",
            "No. of frames: 158\n",
            "No. of frames: 159\n",
            "No. of frames: 160\n",
            "No. of frames: 161\n",
            "No. of frames: 162\n",
            "No. of frames: 163\n",
            "No. of frames: 164\n",
            "No. of frames: 165\n",
            "No. of frames: 166\n",
            "No. of frames: 167\n",
            "No. of frames: 168\n",
            "No. of frames: 169\n",
            "No. of frames: 170\n",
            "No. of frames: 171\n",
            "No. of frames: 172\n",
            "No. of frames: 173\n",
            "No. of frames: 174\n",
            "No. of frames: 175\n",
            "No. of frames: 176\n",
            "No. of frames: 177\n",
            "No. of frames: 178\n",
            "No. of frames: 179\n",
            "No. of frames: 180\n",
            "No. of frames: 181\n",
            "No. of frames: 182\n",
            "No. of frames: 183\n",
            "No. of frames: 184\n",
            "No. of frames: 185\n",
            "No. of frames: 186\n",
            "No. of frames: 187\n",
            "No. of frames: 188\n",
            "No. of frames: 189\n",
            "No. of frames: 190\n",
            "No. of frames: 191\n",
            "No. of frames: 192\n",
            "No. of frames: 193\n",
            "No. of frames: 194\n",
            "No. of frames: 195\n",
            "No. of frames: 196\n",
            "No. of frames: 197\n",
            "No. of frames: 198\n",
            "No. of frames: 199\n",
            "No. of frames: 200\n",
            "No. of frames: 201\n",
            "No. of frames: 202\n",
            "No. of frames: 203\n",
            "No. of frames: 204\n",
            "No. of frames: 205\n",
            "No. of frames: 206\n",
            "No. of frames: 207\n",
            "No. of frames: 208\n",
            "No. of frames: 209\n",
            "No. of frames: 210\n",
            "No. of frames: 211\n",
            "No. of frames: 212\n",
            "No. of frames: 213\n",
            "No. of frames: 214\n",
            "No. of frames: 215\n",
            "No. of frames: 216\n",
            "No. of frames: 217\n",
            "No. of frames: 218\n",
            "No. of frames: 219\n",
            "No. of frames: 220\n",
            "No. of frames: 221\n"
          ]
        },
        {
          "output_type": "error",
          "ename": "KeyboardInterrupt",
          "evalue": "ignored",
          "traceback": [
            "\u001b[0;31m---------------------------------------------------------------------------\u001b[0m",
            "\u001b[0;31mKeyboardInterrupt\u001b[0m                         Traceback (most recent call last)",
            "\u001b[0;32m<ipython-input-7-dad261bb6704>\u001b[0m in \u001b[0;36m<cell line: 7>\u001b[0;34m()\u001b[0m\n\u001b[1;32m      5\u001b[0m \u001b[0msegment_video\u001b[0m \u001b[0;34m=\u001b[0m \u001b[0minstance_segmentation\u001b[0m\u001b[0;34m(\u001b[0m\u001b[0;34m)\u001b[0m\u001b[0;34m\u001b[0m\u001b[0;34m\u001b[0m\u001b[0m\n\u001b[1;32m      6\u001b[0m \u001b[0msegment_video\u001b[0m\u001b[0;34m.\u001b[0m\u001b[0mload_model\u001b[0m\u001b[0;34m(\u001b[0m\u001b[0;34m\"mask_rcnn_coco.h5\"\u001b[0m\u001b[0;34m)\u001b[0m \u001b[0;31m#memories\u001b[0m\u001b[0;34m\u001b[0m\u001b[0;34m\u001b[0m\u001b[0m\n\u001b[0;32m----> 7\u001b[0;31m \u001b[0msegment_video\u001b[0m\u001b[0;34m.\u001b[0m\u001b[0mprocess_video\u001b[0m\u001b[0;34m(\u001b[0m\u001b[0;34m\"/content/gdrive/MyDrive/Presentation/video1.mp4\"\u001b[0m\u001b[0;34m,\u001b[0m \u001b[0mshow_bboxes\u001b[0m \u001b[0;34m=\u001b[0m \u001b[0;32mTrue\u001b[0m\u001b[0;34m,\u001b[0m \u001b[0mframes_per_second\u001b[0m\u001b[0;34m=\u001b[0m \u001b[0;36m30\u001b[0m\u001b[0;34m,\u001b[0m \u001b[0moutput_video_name\u001b[0m\u001b[0;34m=\u001b[0m\u001b[0;34m\"tm1.mp4\"\u001b[0m\u001b[0;34m)\u001b[0m\u001b[0;34m\u001b[0m\u001b[0;34m\u001b[0m\u001b[0m\n\u001b[0m",
            "\u001b[0;32m/usr/local/lib/python3.10/dist-packages/pixellib/instance/__init__.py\u001b[0m in \u001b[0;36mprocess_video\u001b[0;34m(self, video_path, show_bboxes, segment_target_classes, extract_segmented_objects, save_extracted_objects, text_thickness, text_size, box_thickness, mask_points_values, output_video_name, frames_per_second)\u001b[0m\n\u001b[1;32m    567\u001b[0m \u001b[0;34m\u001b[0m\u001b[0m\n\u001b[1;32m    568\u001b[0m \u001b[0;34m\u001b[0m\u001b[0m\n\u001b[0;32m--> 569\u001b[0;31m                 seg, output =  self.segmentFrame(frame, show_bboxes=show_bboxes, segment_target_classes=segment_target_classes,\n\u001b[0m\u001b[1;32m    570\u001b[0m                         \u001b[0mtext_thickness\u001b[0m \u001b[0;34m=\u001b[0m \u001b[0mtext_thickness\u001b[0m\u001b[0;34m,\u001b[0m\u001b[0mtext_size\u001b[0m \u001b[0;34m=\u001b[0m \u001b[0mtext_size\u001b[0m\u001b[0;34m,\u001b[0m \u001b[0mbox_thickness\u001b[0m \u001b[0;34m=\u001b[0m \u001b[0mbox_thickness\u001b[0m\u001b[0;34m,\u001b[0m\u001b[0;34m\u001b[0m\u001b[0;34m\u001b[0m\u001b[0m\n\u001b[1;32m    571\u001b[0m                         \u001b[0mextract_segmented_objects\u001b[0m\u001b[0;34m=\u001b[0m\u001b[0mextract_segmented_objects\u001b[0m\u001b[0;34m,\u001b[0m \u001b[0msave_extracted_objects\u001b[0m\u001b[0;34m=\u001b[0m\u001b[0msave_extracted_objects\u001b[0m\u001b[0;34m,\u001b[0m\u001b[0;34m\u001b[0m\u001b[0;34m\u001b[0m\u001b[0m\n",
            "\u001b[0;32m/usr/local/lib/python3.10/dist-packages/pixellib/instance/__init__.py\u001b[0m in \u001b[0;36msegmentFrame\u001b[0;34m(self, frame, show_bboxes, segment_target_classes, extract_segmented_objects, text_thickness, text_size, box_thickness, save_extracted_objects, mask_points_values, output_image_name, verbose)\u001b[0m\n\u001b[1;32m    456\u001b[0m \u001b[0;34m\u001b[0m\u001b[0m\n\u001b[1;32m    457\u001b[0m         \u001b[0;32melse\u001b[0m\u001b[0;34m:\u001b[0m\u001b[0;34m\u001b[0m\u001b[0;34m\u001b[0m\u001b[0m\n\u001b[0;32m--> 458\u001b[0;31m             output = display_box_instances(frame, r['rois'], r['masks'], r['class_ids'], coco_config.class_names, r['scores'],\n\u001b[0m\u001b[1;32m    459\u001b[0m             text_size = text_size, box_thickness=box_thickness, text_thickness=text_thickness)   \n\u001b[1;32m    460\u001b[0m \u001b[0;34m\u001b[0m\u001b[0m\n",
            "\u001b[0;32m/usr/local/lib/python3.10/dist-packages/pixellib/instance/__init__.py\u001b[0m in \u001b[0;36mdisplay_box_instances\u001b[0;34m(image, boxes, masks, class_ids, class_name, scores, text_size, box_thickness, text_thickness)\u001b[0m\n\u001b[1;32m   1228\u001b[0m         \u001b[0mmask\u001b[0m \u001b[0;34m=\u001b[0m \u001b[0mmasks\u001b[0m\u001b[0;34m[\u001b[0m\u001b[0;34m:\u001b[0m\u001b[0;34m,\u001b[0m \u001b[0;34m:\u001b[0m\u001b[0;34m,\u001b[0m \u001b[0mi\u001b[0m\u001b[0;34m]\u001b[0m\u001b[0;34m\u001b[0m\u001b[0;34m\u001b[0m\u001b[0m\n\u001b[1;32m   1229\u001b[0m \u001b[0;34m\u001b[0m\u001b[0m\n\u001b[0;32m-> 1230\u001b[0;31m         \u001b[0mimage\u001b[0m \u001b[0;34m=\u001b[0m \u001b[0mapply_mask\u001b[0m\u001b[0;34m(\u001b[0m\u001b[0mimage\u001b[0m\u001b[0;34m,\u001b[0m \u001b[0mmask\u001b[0m\u001b[0;34m,\u001b[0m \u001b[0mcolor\u001b[0m\u001b[0;34m)\u001b[0m\u001b[0;34m\u001b[0m\u001b[0;34m\u001b[0m\u001b[0m\n\u001b[0m\u001b[1;32m   1231\u001b[0m         \u001b[0mcolor_rec\u001b[0m \u001b[0;34m=\u001b[0m \u001b[0;34m[\u001b[0m\u001b[0mint\u001b[0m\u001b[0;34m(\u001b[0m\u001b[0mc\u001b[0m\u001b[0;34m)\u001b[0m \u001b[0;32mfor\u001b[0m \u001b[0mc\u001b[0m \u001b[0;32min\u001b[0m \u001b[0mnp\u001b[0m\u001b[0;34m.\u001b[0m\u001b[0marray\u001b[0m\u001b[0;34m(\u001b[0m\u001b[0mcolors\u001b[0m\u001b[0;34m[\u001b[0m\u001b[0mi\u001b[0m\u001b[0;34m]\u001b[0m\u001b[0;34m)\u001b[0m \u001b[0;34m*\u001b[0m \u001b[0;36m255\u001b[0m\u001b[0;34m]\u001b[0m\u001b[0;34m\u001b[0m\u001b[0;34m\u001b[0m\u001b[0m\n\u001b[1;32m   1232\u001b[0m         \u001b[0mimage\u001b[0m \u001b[0;34m=\u001b[0m \u001b[0mcv2\u001b[0m\u001b[0;34m.\u001b[0m\u001b[0mrectangle\u001b[0m\u001b[0;34m(\u001b[0m\u001b[0mimage\u001b[0m\u001b[0;34m,\u001b[0m \u001b[0;34m(\u001b[0m\u001b[0mx1\u001b[0m\u001b[0;34m,\u001b[0m \u001b[0my1\u001b[0m\u001b[0;34m)\u001b[0m\u001b[0;34m,\u001b[0m \u001b[0;34m(\u001b[0m\u001b[0mx2\u001b[0m\u001b[0;34m,\u001b[0m \u001b[0my2\u001b[0m\u001b[0;34m)\u001b[0m\u001b[0;34m,\u001b[0m \u001b[0mcolor_rec\u001b[0m\u001b[0;34m,\u001b[0m \u001b[0mbox_thickness\u001b[0m\u001b[0;34m)\u001b[0m\u001b[0;34m\u001b[0m\u001b[0;34m\u001b[0m\u001b[0m\n",
            "\u001b[0;32m/usr/local/lib/python3.10/dist-packages/pixellib/instance/__init__.py\u001b[0m in \u001b[0;36mapply_mask\u001b[0;34m(image, mask, color, alpha)\u001b[0m\n\u001b[1;32m   1181\u001b[0m     \"\"\"\n\u001b[1;32m   1182\u001b[0m     \u001b[0;32mfor\u001b[0m \u001b[0mc\u001b[0m \u001b[0;32min\u001b[0m \u001b[0mrange\u001b[0m\u001b[0;34m(\u001b[0m\u001b[0;36m3\u001b[0m\u001b[0;34m)\u001b[0m\u001b[0;34m:\u001b[0m\u001b[0;34m\u001b[0m\u001b[0;34m\u001b[0m\u001b[0m\n\u001b[0;32m-> 1183\u001b[0;31m         image[:, :, c] = np.where(mask == 1,\n\u001b[0m\u001b[1;32m   1184\u001b[0m                                   \u001b[0mimage\u001b[0m\u001b[0;34m[\u001b[0m\u001b[0;34m:\u001b[0m\u001b[0;34m,\u001b[0m \u001b[0;34m:\u001b[0m\u001b[0;34m,\u001b[0m \u001b[0mc\u001b[0m\u001b[0;34m]\u001b[0m \u001b[0;34m*\u001b[0m\u001b[0;34m\u001b[0m\u001b[0;34m\u001b[0m\u001b[0m\n\u001b[1;32m   1185\u001b[0m                                   \u001b[0;34m(\u001b[0m\u001b[0;36m1\u001b[0m \u001b[0;34m-\u001b[0m \u001b[0malpha\u001b[0m\u001b[0;34m)\u001b[0m \u001b[0;34m+\u001b[0m \u001b[0malpha\u001b[0m \u001b[0;34m*\u001b[0m \u001b[0mcolor\u001b[0m\u001b[0;34m[\u001b[0m\u001b[0mc\u001b[0m\u001b[0;34m]\u001b[0m \u001b[0;34m*\u001b[0m \u001b[0;36m255\u001b[0m\u001b[0;34m,\u001b[0m\u001b[0;34m\u001b[0m\u001b[0;34m\u001b[0m\u001b[0m\n",
            "\u001b[0;32m/usr/local/lib/python3.10/dist-packages/numpy/core/overrides.py\u001b[0m in \u001b[0;36mwhere\u001b[0;34m(*args, **kwargs)\u001b[0m\n",
            "\u001b[0;31mKeyboardInterrupt\u001b[0m: "
          ]
        }
      ],
      "source": [
        "import pixellib\n",
        "from pixellib.instance import instance_segmentation\n",
        "import cv2\n",
        "\n",
        "segment_video = instance_segmentation()\n",
        "segment_video.load_model(\"mask_rcnn_coco.h5\") #memories\n",
        "segment_video.process_video(\"/content/gdrive/MyDrive/Presentation/video1.mp4\", show_bboxes = True, frames_per_second= 30, output_video_name=\"tm1.mp4\")"
      ]
    },
    {
      "cell_type": "code",
      "execution_count": null,
      "metadata": {
        "id": "MlfUVAsYg8JR"
      },
      "outputs": [],
      "source": [
        "segment_video = instance_segmentation()\n",
        "segment_video.load_model(\"mask_rcnn_coco.h5\")\n",
        "segment_video.process_video(\"/content/gdrive/MyDrive/Presentation/video2.mp4\", show_bboxes = True, frames_per_second= 15, output_video_name=\"traffic_monitor2.mp4\")"
      ]
    }
  ],
  "metadata": {
    "accelerator": "GPU",
    "colab": {
      "provenance": []
    },
    "kernelspec": {
      "display_name": "Python 3",
      "name": "python3"
    },
    "language_info": {
      "name": "python"
    }
  },
  "nbformat": 4,
  "nbformat_minor": 0
}